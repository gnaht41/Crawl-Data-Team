{
 "cells": [
  {
   "cell_type": "code",
   "execution_count": 1,
   "metadata": {},
   "outputs": [],
   "source": [
    "from pyspark.sql import SparkSession\n",
    "from pyspark.sql.functions import col, regexp_replace, monotonically_increasing_id\n",
    "\n",
    "# Khởi tạo phiên Spark với MongoDB và PostgreSQL\n",
    "\n",
    "spark = SparkSession.builder \\\n",
    "    .appName(\"Goodreads Spark with MongoDB and PostgreSQL\") \\\n",
    "    .config(\"spark.jars.packages\", \"org.mongodb.spark:mongo-spark-connector_2.12:3.0.1,org.postgresql:postgresql:42.7.4\") \\\n",
    "    .config(\"spark.mongodb.read.connection.uri\", \"mongodb://localhost:27017/goodreads_db.books\") \\\n",
    "    .getOrCreate()"
   ]
  },
  {
   "cell_type": "code",
   "execution_count": 2,
   "metadata": {},
   "outputs": [],
   "source": [
    "# Cài đặt mức độ log\n",
    "\n",
    "spark.sparkContext.setLogLevel(\"INFO\")\n",
    "\n",
    "# Đọc dữ liệu từ MongoDB vào DataFrame\n",
    "\n",
    "df = spark.read \\\n",
    "    .format(\"mongo\") \\\n",
    "    .option(\"uri\", \"mongodb://localhost:27017/goodreads_db.books\") \\\n",
    "    .load()"
   ]
  },
  {
   "cell_type": "code",
   "execution_count": 3,
   "metadata": {},
   "outputs": [
    {
     "name": "stdout",
     "output_type": "stream",
     "text": [
      "+---------------+----------+--------------------+--------------------+-----------------+-----+----+------+-------+---------+--------------------+--------------------+\n",
      "|         Author|Cover Type|                Date|         Description|Number of Ratings|Pages|Rank|Rating|Reviews|    Score|               Title|                 _id|\n",
      "+---------------+----------+--------------------+--------------------+-----------------+-----+----+------+-------+---------+--------------------+--------------------+\n",
      "|   Paulo Coelho| Paperback|First published J...|Paulo Coelho's ma...|        3,182,340|  197|  26|  3.91|126,908|  920,276|       The Alchemist|{66f41f0679bd5bcc...|\n",
      "|Suzanne Collins| Hardcover|First published S...|In the ruins of a...|        8,957,477|  374|   1|  4.34|225,244|3,905,463|The Hunger Games ...|{66f41f0679bd5bcc...|\n",
      "|  Lewis Carroll| Paperback|First published D...|\"I can't explain ...|          576,089|  239|  22|  4.06| 16,150|  967,102|Alice’s Adventure...|{66f41f0779bd5bcc...|\n",
      "|  Veronica Roth| Paperback|First published A...|In Beatrice Prior...|        4,088,521|  487|  23|  4.14|122,769|  956,565|Divergent (Diverg...|{66f41f0779bd5bcc...|\n",
      "|William Golding| Paperback|First published S...|At the dawn of th...|        2,976,980|  182|  27|  3.70| 58,642|  901,960|   Lord of the Flies|{66f41f0779bd5bcc...|\n",
      "+---------------+----------+--------------------+--------------------+-----------------+-----+----+------+-------+---------+--------------------+--------------------+\n",
      "only showing top 5 rows\n",
      "\n",
      "root\n",
      " |-- Author: string (nullable = true)\n",
      " |-- Cover Type: string (nullable = true)\n",
      " |-- Date: string (nullable = true)\n",
      " |-- Description: string (nullable = true)\n",
      " |-- Number of Ratings: string (nullable = true)\n",
      " |-- Pages: string (nullable = true)\n",
      " |-- Rank: string (nullable = true)\n",
      " |-- Rating: string (nullable = true)\n",
      " |-- Reviews: string (nullable = true)\n",
      " |-- Score: string (nullable = true)\n",
      " |-- Title: string (nullable = true)\n",
      " |-- _id: struct (nullable = true)\n",
      " |    |-- oid: string (nullable = true)\n",
      "\n"
     ]
    }
   ],
   "source": [
    "# Hiển thị dữ liệu từ MongoDB ban đầu\n",
    "\n",
    "df.show(5)\n",
    "\n",
    "df.printSchema()"
   ]
  },
  {
   "cell_type": "code",
   "execution_count": 4,
   "metadata": {},
   "outputs": [
    {
     "name": "stdout",
     "output_type": "stream",
     "text": [
      "+-----------------+-------+\n",
      "|Number of Ratings|Reviews|\n",
      "+-----------------+-------+\n",
      "|        3,182,340|126,908|\n",
      "|        8,957,477|225,244|\n",
      "|          576,089| 16,150|\n",
      "|        4,088,521|122,769|\n",
      "|        2,976,980| 58,642|\n",
      "+-----------------+-------+\n",
      "only showing top 5 rows\n",
      "\n"
     ]
    }
   ],
   "source": [
    "# Kiểm tra dữ liệu trước khi chuyển đổi\n",
    "\n",
    "df.select(\"Number of Ratings\", \"Reviews\").show(5)"
   ]
  },
  {
   "cell_type": "code",
   "execution_count": 5,
   "metadata": {},
   "outputs": [],
   "source": [
    "# Bước 1: Xử lý dữ liệu có dạng \"8,932,568\" - Loại bỏ dấu phẩy\n",
    "\n",
    "df = df.withColumn(\"Number of Ratings\", regexp_replace(col(\"Number of Ratings\"), \",\", \"\")) \\\n",
    "       .withColumn(\"Reviews\", regexp_replace(col(\"Reviews\"), \",\", \"\"))"
   ]
  },
  {
   "cell_type": "code",
   "execution_count": 6,
   "metadata": {},
   "outputs": [],
   "source": [
    "# Bước 2: Chuyển đổi kiểu dữ liệu sau khi loại bỏ dấu phẩy\n",
    "\n",
    "df = df.withColumn(\"Pages\", col(\"Pages\").cast(\"int\")) \\\n",
    "       .withColumn(\"Rating\", col(\"Rating\").cast(\"float\")) \\\n",
    "       .withColumn(\"Number of Ratings\", col(\"Number of Ratings\").cast(\"int\")) \\\n",
    "       .withColumn(\"Reviews\", col(\"Reviews\").cast(\"int\"))"
   ]
  },
  {
   "cell_type": "code",
   "execution_count": 7,
   "metadata": {},
   "outputs": [
    {
     "name": "stdout",
     "output_type": "stream",
     "text": [
      "+-----------------+-------+\n",
      "|Number of Ratings|Reviews|\n",
      "+-----------------+-------+\n",
      "|          3182340| 126908|\n",
      "|          8957477| 225244|\n",
      "|           576089|  16150|\n",
      "|          4088521| 122769|\n",
      "|          2976980|  58642|\n",
      "+-----------------+-------+\n",
      "only showing top 5 rows\n",
      "\n"
     ]
    }
   ],
   "source": [
    "# Hiển thị dữ liệu sau khi chuyển đổi\n",
    "\n",
    "df.select(\"Number of Ratings\", \"Reviews\").show(5)"
   ]
  },
  {
   "cell_type": "code",
   "execution_count": 8,
   "metadata": {},
   "outputs": [],
   "source": [
    "# Bước 3: Xử lý dữ liệu null, nếu có giá trị null sẽ thay bằng giá trị mặc định\n",
    "\n",
    "df = df.na.fill({\n",
    "    \"Pages\": 0,\n",
    "    \"Rating\": 0.0,\n",
    "    \"Number of Ratings\": 0,\n",
    "    \"Reviews\": 0\n",
    "})"
   ]
  },
  {
   "cell_type": "code",
   "execution_count": 9,
   "metadata": {},
   "outputs": [],
   "source": [
    "# Tạo các bảng từ dữ liệu\n",
    "\n",
    "# Bảng authors chứa thông tin về tác giả, sử dụng distinct để loại bỏ các giá trị trùng lặp\n",
    "\n",
    "authors_df = df.select(\"Author\").distinct(\n",
    ").withColumnRenamed(\"Author\", \"author_name\")\n"
   ]
  },
  {
   "cell_type": "code",
   "execution_count": 10,
   "metadata": {},
   "outputs": [],
   "source": [
    "# Bảng books chứa thông tin về sách và ngày xuất bản\n",
    "\n",
    "books_df = df.select(\"Title\", \"Author\", \"Pages\", \"Cover Type\", \"Date\") \\\n",
    "             .withColumnRenamed(\"Title\", \"book_title\") \\\n",
    "             .withColumnRenamed(\"Author\", \"author_name\") \\\n",
    "             .withColumnRenamed(\"Pages\", \"num_pages\") \\\n",
    "             .withColumnRenamed(\"Cover Type\", \"cover_type\") \\\n",
    "             .withColumnRenamed(\"Date\", \"publish_date\")"
   ]
  },
  {
   "cell_type": "code",
   "execution_count": 11,
   "metadata": {},
   "outputs": [],
   "source": [
    "# Bảng ratings chứa thông tin về đánh giá\n",
    "\n",
    "ratings_df = df.select(\"Title\", \"Rating\", \"Number of Ratings\", \"Reviews\") \\\n",
    "               .withColumnRenamed(\"Title\", \"book_title\") \\\n",
    "               .withColumnRenamed(\"Rating\", \"rating\") \\\n",
    "               .withColumnRenamed(\"Number of Ratings\", \"num_ratings\") \\\n",
    "               .withColumnRenamed(\"Reviews\", \"num_reviews\")"
   ]
  },
  {
   "cell_type": "code",
   "execution_count": 12,
   "metadata": {},
   "outputs": [],
   "source": [
    "# Bước 4: Tạo khóa chính cho bảng sách và tác giả\n",
    "\n",
    "books_df = books_df.withColumn(\"book_id\", monotonically_increasing_id())\n",
    "\n",
    "authors_df = authors_df.withColumn(\"author_id\", monotonically_increasing_id())\n"
   ]
  },
  {
   "cell_type": "code",
   "execution_count": 13,
   "metadata": {},
   "outputs": [],
   "source": [
    "# Thêm khóa ngoại vào bảng ratings để kết nối với bảng books\n",
    "\n",
    "ratings_df = ratings_df.join(books_df.select(\n",
    "    \"book_title\", \"book_id\"), on=\"book_title\", how=\"inner\")\n",
    "\n",
    "# Thêm khóa ngoại vào bảng books để kết nối với bảng authors\n",
    "\n",
    "books_df = books_df.join(authors_df.select(\n",
    "    \"author_name\", \"author_id\"), on=\"author_name\", how=\"inner\")"
   ]
  },
  {
   "cell_type": "code",
   "execution_count": 14,
   "metadata": {},
   "outputs": [],
   "source": [
    "# Loại bỏ các giá trị rỗng hoặc bằng 0 cho các bảng quan trọng\n",
    "\n",
    "books_df = books_df.filter((books_df[\"num_pages\"] > 0) & (\n",
    "    books_df[\"publish_date\"].isNotNull()))\n",
    "ratings_df = ratings_df.filter(\n",
    "    (ratings_df[\"rating\"] > 0) & (ratings_df[\"num_ratings\"] > 0))\n"
   ]
  },
  {
   "cell_type": "code",
   "execution_count": 15,
   "metadata": {},
   "outputs": [
    {
     "name": "stdout",
     "output_type": "stream",
     "text": [
      "+--------------------+------+-----------+-----------+-------+\n",
      "|          book_title|rating|num_ratings|num_reviews|book_id|\n",
      "+--------------------+------+-----------+-----------+-------+\n",
      "|The Complete Calv...|  4.81|      40834|       1206|    765|\n",
      "|The Addiction Man...|  4.81|       1179|         52|    875|\n",
      "|Words of Radiance...|  4.76|     381139|      24344|    532|\n",
      "|Harry Potter Seri...|  4.74|     291990|       8452|    678|\n",
      "|Kingdom of Ash (T...|   4.7|     688833|      72490|    388|\n",
      "|The Way of Kings ...|  4.66|     533802|      39886|    766|\n",
      "|A Court of Mist a...|  4.65|    2307530|     196537|    551|\n",
      "|A Court of Mist a...|  4.65|    2307530|     196537|     45|\n",
      "|A Court of Mist a...|  4.65|    2307530|     196537|    551|\n",
      "|A Court of Mist a...|  4.65|    2307530|     196537|     45|\n",
      "+--------------------+------+-----------+-----------+-------+\n",
      "\n"
     ]
    }
   ],
   "source": [
    "# Top 10 sách có đánh giá cao nhất\n",
    "\n",
    "top_rated_books = ratings_df.orderBy(col(\"rating\").desc()).limit(10)\n",
    "\n",
    "top_rated_books.show()"
   ]
  },
  {
   "cell_type": "code",
   "execution_count": 16,
   "metadata": {},
   "outputs": [
    {
     "name": "stdout",
     "output_type": "stream",
     "text": [
      "+--------------------+------+-----------+-----------+-------+\n",
      "|          book_title|rating|num_ratings|num_reviews|book_id|\n",
      "+--------------------+------+-----------+-----------+-------+\n",
      "|Harry Potter and ...|  4.47|   10393270|     169354|    935|\n",
      "|Harry Potter and ...|  4.47|   10393270|     169354|    918|\n",
      "|The Hunger Games ...|  4.34|    8957477|     225244|      1|\n",
      "|Twilight (The Twi...|  3.66|    6764739|     134200|    985|\n",
      "|To Kill a Mocking...|  4.26|    6327305|     121142|    989|\n",
      "|To Kill a Mocking...|  4.26|    6327305|     121142|     27|\n",
      "|To Kill a Mocking...|  4.26|    6327305|     121142|    989|\n",
      "|To Kill a Mocking...|  4.26|    6327305|     121142|     27|\n",
      "|    The Great Gatsby|  3.93|    5394297|     110917|      8|\n",
      "|The Fault in Our ...|  4.13|    5297202|     181573|    993|\n",
      "+--------------------+------+-----------+-----------+-------+\n",
      "\n"
     ]
    }
   ],
   "source": [
    "# Top 10 sách có nhiều đánh giá nhất\n",
    "\n",
    "most_rated_books = ratings_df.orderBy(col(\"num_ratings\").desc()).limit(10)\n",
    "\n",
    "most_rated_books.show()"
   ]
  },
  {
   "cell_type": "code",
   "execution_count": 17,
   "metadata": {},
   "outputs": [
    {
     "name": "stdout",
     "output_type": "stream",
     "text": [
      "+--------------------+-----+\n",
      "|         author_name|count|\n",
      "+--------------------+-----+\n",
      "|Stephen         King|   18|\n",
      "|       Sarah J. Maas|   14|\n",
      "| William Shakespeare|   12|\n",
      "|        Rick Riordan|   11|\n",
      "|     Cassandra Clare|   10|\n",
      "|        J.K. Rowling|   10|\n",
      "|          C.S. Lewis|    9|\n",
      "|       Richelle Mead|    8|\n",
      "|           P.C. Cast|    7|\n",
      "|      J.R.R. Tolkien|    7|\n",
      "+--------------------+-----+\n",
      "only showing top 10 rows\n",
      "\n"
     ]
    }
   ],
   "source": [
    "# Tính tổng số sách mỗi tác giả đã viết\n",
    "\n",
    "books_per_author = books_df.groupBy(\"author_name\").count().orderBy(col(\"count\").desc())\n",
    "\n",
    "books_per_author.show(10)"
   ]
  },
  {
   "cell_type": "code",
   "execution_count": 18,
   "metadata": {},
   "outputs": [
    {
     "name": "stdout",
     "output_type": "stream",
     "text": [
      "+--------------------+------------------+\n",
      "|         author_name|    avg(num_pages)|\n",
      "+--------------------+------------------+\n",
      "|      Bill Watterson|            1456.0|\n",
      "|         Leo Tolstoy|            1178.0|\n",
      "|           Anonymous|            1114.0|\n",
      "|         Ken Follett|            1106.5|\n",
      "|David Foster Wallace|            1088.0|\n",
      "|Laura Ingalls Wilder|1086.3333333333333|\n",
      "|  George R.R. Martin|            1041.2|\n",
      "|   Margaret Mitchell|            1037.0|\n",
      "|Miguel de Cervant...|            1023.0|\n",
      "|Marion Zimmer Bra...|            1009.0|\n",
      "+--------------------+------------------+\n",
      "only showing top 10 rows\n",
      "\n"
     ]
    }
   ],
   "source": [
    "# Tính số trang trung bình cho mỗi tác giả\n",
    "\n",
    "average_pages_per_author = books_df.groupBy(\"author_name\").avg(\"num_pages\").orderBy(col(\"avg(num_pages)\").desc())\n",
    "\n",
    "average_pages_per_author.show(10)"
   ]
  },
  {
   "cell_type": "code",
   "execution_count": 19,
   "metadata": {},
   "outputs": [
    {
     "name": "stdout",
     "output_type": "stream",
     "text": [
      "+--------------------+--------------------+---------+--------------------+--------------------+-------+---------+\n",
      "|         author_name|          book_title|num_pages|          cover_type|        publish_date|book_id|author_id|\n",
      "+--------------------+--------------------+---------+--------------------+--------------------+-------+---------+\n",
      "|        J.K. Rowling|Harry Potter Seri...|     4100|           Hardcover|First published O...|    678|      585|\n",
      "|Laura Ingalls Wilder|The Little House ...|     2700|           Paperback|First published J...|    874|      580|\n",
      "|  Arthur Conan Doyle|The Complete Sher...|     1796|           Paperback|First published J...|    760|      207|\n",
      "|      J.R.R. Tolkien|J.R.R. Tolkien 4-...|     1728|Mass Market Paper...|First published J...|    984|       68|\n",
      "|     Stephenie Meyer|The Twilight Coll...|     1690|           Hardcover|First published N...|    578|       94|\n",
      "|           Anonymous|The Holy Bible: K...|     1590|           Hardcover|First published J...|    407|      319|\n",
      "|               Homer|The Iliad / The O...|     1556|           Paperback|First published J...|    810|      159|\n",
      "|       Stieg Larsson|The Millennium Tr...|     1531|           Hardcover|First published N...|    208|      495|\n",
      "|     Cassandra Clare|The Mortal Instru...|     1520|           Paperback|First published O...|     97|      280|\n",
      "|         Victor Hugo|      Les Misérables|     1463|Mass Market Paper...|First published J...|      7|      167|\n",
      "+--------------------+--------------------+---------+--------------------+--------------------+-------+---------+\n",
      "\n"
     ]
    }
   ],
   "source": [
    "# Top 10 sách có nhiều trang nhất\n",
    "\n",
    "longest_books = books_df.orderBy(col(\"num_pages\").desc()).limit(10)\n",
    "\n",
    "longest_books.show()"
   ]
  },
  {
   "cell_type": "code",
   "execution_count": 20,
   "metadata": {},
   "outputs": [
    {
     "name": "stdout",
     "output_type": "stream",
     "text": [
      "+--------------------+------+-----------+-----------+-------+\n",
      "|          book_title|rating|num_ratings|num_reviews|book_id|\n",
      "+--------------------+------+-----------+-----------+-------+\n",
      "|Words of Radiance...|  4.76|     381139|      24344|    532|\n",
      "|Harry Potter Seri...|  4.74|     291990|       8452|    678|\n",
      "|Kingdom of Ash (T...|   4.7|     688833|      72490|    388|\n",
      "|The Way of Kings ...|  4.66|     533802|      39886|    766|\n",
      "|A Court of Mist a...|  4.65|    2307530|     196537|    551|\n",
      "|A Court of Mist a...|  4.65|    2307530|     196537|     45|\n",
      "|A Court of Mist a...|  4.65|    2307530|     196537|    551|\n",
      "|A Court of Mist a...|  4.65|    2307530|     196537|     45|\n",
      "|     The Nightingale|  4.63|    1518678|     123935|    585|\n",
      "|Empire of Storms ...|  4.63|     813727|      67037|    103|\n",
      "+--------------------+------+-----------+-----------+-------+\n",
      "only showing top 10 rows\n",
      "\n"
     ]
    }
   ],
   "source": [
    "# Tìm sách có cả nhiều lượt đánh giá và điểm đánh giá cao\n",
    "\n",
    "popular_and_highly_rated_books = ratings_df.filter((ratings_df[\"rating\"] >= 4.0) & (ratings_df[\"num_ratings\"] >= 50000))\n",
    "\n",
    "popular_and_highly_rated_books.orderBy(col(\"rating\").desc(), col(\"num_ratings\").desc()).show(10)"
   ]
  },
  {
   "cell_type": "code",
   "execution_count": 21,
   "metadata": {},
   "outputs": [
    {
     "name": "stdout",
     "output_type": "stream",
     "text": [
      "+-------+------------------+-------------------+\n",
      "|summary|         num_pages|             rating|\n",
      "+-------+------------------+-------------------+\n",
      "|  count|              1022|               1022|\n",
      "|   mean|425.82876712328766|  4.101849330847977|\n",
      "| stddev| 279.7754329523757|0.23676153971897146|\n",
      "|    min|                26|                3.1|\n",
      "|    max|              4100|               4.81|\n",
      "+-------+------------------+-------------------+\n",
      "\n"
     ]
    }
   ],
   "source": [
    "# Phân tích mối tương quan giữa số trang và điểm đánh giá\n",
    "\n",
    "books_ratings_df = books_df.join(ratings_df, on=\"book_title\", how=\"inner\")\n",
    "\n",
    "books_ratings_df.select(\"num_pages\", \"rating\").describe().show()"
   ]
  },
  {
   "cell_type": "code",
   "execution_count": 22,
   "metadata": {},
   "outputs": [
    {
     "name": "stdout",
     "output_type": "stream",
     "text": [
      "+--------------------+-----+\n",
      "|          cover_type|count|\n",
      "+--------------------+-----+\n",
      "|           Paperback|  513|\n",
      "|           Hardcover|  282|\n",
      "|Mass Market Paper...|  116|\n",
      "|      Kindle Edition|   70|\n",
      "|               ebook|   13|\n",
      "|       Leather Bound|    1|\n",
      "|     Library Binding|    1|\n",
      "|          Board book|    1|\n",
      "|                Nook|    1|\n",
      "+--------------------+-----+\n",
      "\n"
     ]
    }
   ],
   "source": [
    "# Thống kê sách theo loại bìa\n",
    "\n",
    "cover_type_distribution = books_df.groupBy(\"cover_type\").count().orderBy(col(\"count\").desc())\n",
    "\n",
    "cover_type_distribution.show()"
   ]
  },
  {
   "cell_type": "code",
   "execution_count": 23,
   "metadata": {},
   "outputs": [],
   "source": [
    "# Kết nối tới PostgreSQL\n",
    "\n",
    "jdbc_url = \"jdbc:postgresql://localhost:5432/goodreads_books\"\n",
    "connection_properties = {\n",
    "    \"user\": \"postgres\",\n",
    "    \"password\": \"thangvt4102004\",\n",
    "    \"driver\": \"org.postgresql.Driver\"\n",
    "}"
   ]
  },
  {
   "cell_type": "code",
   "execution_count": 24,
   "metadata": {},
   "outputs": [],
   "source": [
    "# Hàm ghi dữ liệu vào PostgreSQL\n",
    "\n",
    "def write_to_postgres(df, table_name):\n",
    "    try:\n",
    "        df.write.jdbc(\n",
    "            url=jdbc_url,\n",
    "            table=table_name,\n",
    "            mode=\"overwrite\",\n",
    "            properties=connection_properties\n",
    "        )\n",
    "        print(f\"Đã ghi thành công bảng {table_name} vào PostgreSQL!\")\n",
    "    except Exception as e:\n",
    "        print(f\"Lỗi khi ghi bảng {table_name} vào PostgreSQL: {e}\")"
   ]
  },
  {
   "cell_type": "code",
   "execution_count": 25,
   "metadata": {},
   "outputs": [
    {
     "name": "stdout",
     "output_type": "stream",
     "text": [
      "Đã ghi thành công bảng authors vào PostgreSQL!\n",
      "Đã ghi thành công bảng books vào PostgreSQL!\n",
      "Đã ghi thành công bảng ratings vào PostgreSQL!\n"
     ]
    }
   ],
   "source": [
    "# Lưu bảng tác giả, sách và đánh giá vào PostgreSQL\n",
    "\n",
    "write_to_postgres(authors_df, \"authors\")\n",
    "\n",
    "write_to_postgres(books_df, \"books\")\n",
    "\n",
    "write_to_postgres(ratings_df, \"ratings\")"
   ]
  }
 ],
 "metadata": {
  "kernelspec": {
   "display_name": "Python 3",
   "language": "python",
   "name": "python3"
  },
  "language_info": {
   "codemirror_mode": {
    "name": "ipython",
    "version": 3
   },
   "file_extension": ".py",
   "mimetype": "text/x-python",
   "name": "python",
   "nbconvert_exporter": "python",
   "pygments_lexer": "ipython3",
   "version": "3.12.3"
  }
 },
 "nbformat": 4,
 "nbformat_minor": 2
}
